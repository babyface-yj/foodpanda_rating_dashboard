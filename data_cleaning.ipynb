{
 "cells": [
  {
   "cell_type": "code",
   "execution_count": null,
   "id": "ec6c6fe8",
   "metadata": {},
   "outputs": [],
   "source": [
    "import pandas as pd"
   ]
  },
  {
   "cell_type": "code",
   "execution_count": null,
   "id": "80d7d456",
   "metadata": {},
   "outputs": [],
   "source": [
    "rest = pd.read_csv(\"resturants.csv\")"
   ]
  },
  {
   "cell_type": "code",
   "execution_count": null,
   "id": "3694c925",
   "metadata": {},
   "outputs": [],
   "source": [
    "rest.info()"
   ]
  },
  {
   "cell_type": "markdown",
   "id": "9bfbbb67",
   "metadata": {},
   "source": [
    "the last column location doesn have any value, then we drop"
   ]
  },
  {
   "cell_type": "code",
   "execution_count": null,
   "id": "03c1413c",
   "metadata": {},
   "outputs": [],
   "source": [
    "rest.drop(columns=['Location'],inplace=True)\n",
    "rest.head()"
   ]
  },
  {
   "cell_type": "markdown",
   "id": "60809b0c",
   "metadata": {},
   "source": [
    "\"Reviewers\" should be integer, so we will remove () and + if they are 100+, then convert to int"
   ]
  },
  {
   "cell_type": "code",
   "execution_count": null,
   "id": "77b05473",
   "metadata": {},
   "outputs": [],
   "source": [
    "rest['Reviewers'] = rest['Reviewers'].str.replace(r'[()+]', '', regex=True)"
   ]
  },
  {
   "cell_type": "code",
   "execution_count": null,
   "id": "e8588a0d",
   "metadata": {},
   "outputs": [],
   "source": [
    "rest['Reviewers'] = rest['Reviewers'].astype(int)"
   ]
  },
  {
   "cell_type": "code",
   "execution_count": null,
   "id": "f7571c2a",
   "metadata": {},
   "outputs": [],
   "source": [
    "rest['Reviewers'].dtype"
   ]
  },
  {
   "cell_type": "markdown",
   "id": "9048a46a",
   "metadata": {},
   "source": [
    "find foodtype if there is anything unusual"
   ]
  },
  {
   "cell_type": "code",
   "execution_count": null,
   "id": "9c783f8a",
   "metadata": {},
   "outputs": [],
   "source": [
    "rest['FoodType'].unique()"
   ]
  },
  {
   "cell_type": "markdown",
   "id": "39e83e5a",
   "metadata": {},
   "source": [
    "Remove all ending with 'min' (not a food type), although some food type may overlap, due to repsect to the real world type people are using, we will keep all other types"
   ]
  },
  {
   "cell_type": "code",
   "execution_count": null,
   "id": "9970c946",
   "metadata": {},
   "outputs": [],
   "source": [
    "rest_toremove = rest[rest['FoodType'].str.endswith('min', na=False)]['FoodType']"
   ]
  },
  {
   "cell_type": "code",
   "execution_count": null,
   "id": "d9aba762",
   "metadata": {},
   "outputs": [],
   "source": [
    "rest = rest[~rest['FoodType'].isin(rest_toremove)]"
   ]
  },
  {
   "cell_type": "code",
   "execution_count": null,
   "id": "3ea278f0",
   "metadata": {},
   "outputs": [],
   "source": [
    "rest['FoodType'].unique()"
   ]
  },
  {
   "cell_type": "markdown",
   "id": "342f6d26",
   "metadata": {},
   "source": [
    "Extract the available location info from the 'CompleteStoreName'"
   ]
  },
  {
   "cell_type": "code",
   "execution_count": null,
   "id": "79f26229",
   "metadata": {},
   "outputs": [],
   "source": [
    "rest['Location'] = rest['CompleteStoreName'].str.extract(r'\\((.*?)\\)')\n",
    "rest"
   ]
  },
  {
   "cell_type": "code",
   "execution_count": null,
   "id": "5ba69ae2",
   "metadata": {},
   "outputs": [],
   "source": [
    "rest.reset_index(drop=True, inplace=True)"
   ]
  },
  {
   "cell_type": "code",
   "execution_count": null,
   "id": "59e26cde",
   "metadata": {},
   "outputs": [],
   "source": [
    "rest"
   ]
  },
  {
   "cell_type": "markdown",
   "id": "acb25911",
   "metadata": {},
   "source": [
    "Add Singapore district info "
   ]
  },
  {
   "cell_type": "code",
   "execution_count": null,
   "id": "ad26bc87",
   "metadata": {},
   "outputs": [],
   "source": [
    "location = pd.DataFrame(rest['Location'])\n",
    "location"
   ]
  },
  {
   "cell_type": "code",
   "execution_count": null,
   "id": "e99a452e",
   "metadata": {},
   "outputs": [],
   "source": [
    "def get_district_mapping():\n",
    "    \"\"\"\n",
    "    Returns a dictionary mapping neighborhoods to their corresponding Singapore districts\n",
    "    \"\"\"\n",
    "    # Previous district mapping code remains the same\n",
    "    return {\n",
    "        # District 1 (Raffles Place, Cecil, Marina, People's Park)\n",
    "        'Raffles Place': 1, 'Marina': 1, \"People's Park\": 1, 'Cecil': 1,\n",
    "        'Raffles City': 1, 'Marina Bay': 1,\n",
    "        \n",
    "        # District 2 (Anson, Tanjong Pagar)\n",
    "        'Anson': 2, 'Tanjong Pagar': 2,\n",
    "        \n",
    "        # District 3 (Queenstown, Tiong Bahru)\n",
    "        'Queenstown': 3, 'Tiong Bahru': 3, \n",
    "        \n",
    "        # District 4 (Telok Blangah, Harbourfront)\n",
    "        'Telok Blangah': 4, 'Harbourfront': 4,\n",
    "        \n",
    "        # District 5 (Pasir Panjang, Clementi)\n",
    "        'Pasir Panjang': 5, 'Clementi': 5,\n",
    "        \n",
    "        # District 6 (High Street, Beach Road)\n",
    "        'High Street': 6, 'Beach Road': 6, 'North Bridge Road': 6, \n",
    "        'Bugis': 6, 'City Hall': 6, 'Arab Street': 6, 'Bras Basah': 6,\n",
    "        \n",
    "        # District 7 (Middle Road, Golden Mile)\n",
    "        'Middle Road': 7, 'Golden Mile': 7, 'Bencoolen': 7,\n",
    "        'Bugis Junction': 7, 'Bugis+': 7,\n",
    "        \n",
    "        # District 8 (Little India)\n",
    "        'Little India': 8, 'Farrer Park': 8, 'Serangoon Road': 8,\n",
    "        'Race Course': 8, 'Tekka': 8,\n",
    "        \n",
    "        # District 9 (Orchard, Cairnhill, River Valley)\n",
    "        'Orchard': 9, 'Cairnhill': 9, 'River Valley': 9, \n",
    "        'Killiney': 9, 'Somerset': 9, 'Dhoby Ghaut': 9,\n",
    "        \n",
    "        # District 10 (Bukit Timah, Holland Road, Tanglin)\n",
    "        'Bukit Timah': 10, 'Holland': 10, 'Tanglin': 10,\n",
    "        'Holland Village': 10, 'Sixth Avenue': 10, '6th Avenue': 10,\n",
    "        \n",
    "        # District 11 (Novena, Thomson, Watten Estate)\n",
    "        'Novena': 11, 'Thomson': 11, 'Watten Estate': 11,\n",
    "        'Newton': 11, 'Upper Thomson': 11,\n",
    "        \n",
    "        # District 12 (Balestier, Toa Payoh, Serangoon)\n",
    "        'Balestier': 12, 'Toa Payoh': 12, 'Serangoon': 12,\n",
    "        \n",
    "        # District 13 (Macpherson, Braddell)\n",
    "        'Macpherson': 13, 'Braddell': 13,\n",
    "        \n",
    "        # District 14 (Geylang, Paya Lebar, Sims)\n",
    "        'Geylang': 14, 'Paya Lebar': 14, 'Sims': 14,\n",
    "        \n",
    "        # District 15 (Katong, Joo Chiat, Amber Road)\n",
    "        'Katong': 15, 'Joo Chiat': 15, 'Amber Road': 15,\n",
    "        \n",
    "        # District 16 (Bedok, Upper East Coast)\n",
    "        'Bedok': 16, 'Upper East Coast': 16,\n",
    "        \n",
    "        # District 17 (Loyang, Changi)\n",
    "        'Loyang': 17, 'Changi': 17,\n",
    "        \n",
    "        # District 18 (Tampines, Pasir Ris)\n",
    "        'Tampines': 18, 'Pasir Ris': 18,\n",
    "        \n",
    "        # District 19 (Serangoon Garden, Hougang, Punggol)\n",
    "        'Serangoon Garden': 19, 'Hougang': 19, 'Punggol': 19,\n",
    "        \n",
    "        # District 20 (Bishan, Ang Mo Kio)\n",
    "        'Bishan': 20, 'Ang Mo Kio': 20, 'AMK': 20,\n",
    "        \n",
    "        # District 21 (Upper Bukit Timah, Clementi Park)\n",
    "        'Upper Bukit Timah': 21, 'Clementi Park': 21,\n",
    "        \n",
    "        # District 22 (Jurong)\n",
    "        'Jurong': 22, 'Jurong East': 22, 'Jurong West': 22,\n",
    "        \n",
    "        # District 23 (Hillview, Bukit Panjang)\n",
    "        'Hillview': 23, 'Bukit Panjang': 23, 'Dairy Farm': 23,\n",
    "        \n",
    "        # District 24 (Lim Chu Kang, Tengah)\n",
    "        'Lim Chu Kang': 24, 'Tengah': 24,\n",
    "        \n",
    "        # District 25 (Kranji, Woodlands)\n",
    "        'Kranji': 25, 'Woodlands': 25,\n",
    "        \n",
    "        # District 26 (Upper Thomson, Springleaf)\n",
    "        'Springleaf': 26,\n",
    "        \n",
    "        # District 27 (Yishun, Sembawang)\n",
    "        'Yishun': 27, 'Sembawang': 27,\n",
    "        \n",
    "        # District 28 (Seletar)\n",
    "        'Seletar': 28\n",
    "    }\n",
    "'''\n",
    "def get_district_coordinates():\n",
    "    \"\"\"\n",
    "    Returns a dictionary of district coordinates (approximate center points)\n",
    "    \"\"\"\n",
    "    return {\n",
    "        1: {'lat': 1.2830, 'lng': 103.8513},  # Raffles Place\n",
    "        2: {'lat': 1.2743, 'lng': 103.8459},  # Tanjong Pagar\n",
    "        3: {'lat': 1.2847, 'lng': 103.8320},  # Tiong Bahru\n",
    "        4: {'lat': 1.2708, 'lng': 103.8354},  # Harbourfront\n",
    "        5: {'lat': 1.2880, 'lng': 103.7862},  # Pasir Panjang\n",
    "        6: {'lat': 1.2966, 'lng': 103.8565},  # Beach Road\n",
    "        7: {'lat': 1.3011, 'lng': 103.8543},  # Middle Road\n",
    "        8: {'lat': 1.3074, 'lng': 103.8517},  # Little India\n",
    "        9: {'lat': 1.3048, 'lng': 103.8318},  # Orchard\n",
    "        10: {'lat': 1.3158, 'lng': 103.8160}, # Bukit Timah\n",
    "        11: {'lat': 1.3204, 'lng': 103.8439}, # Novena\n",
    "        12: {'lat': 1.3340, 'lng': 103.8472}, # Toa Payoh\n",
    "        13: {'lat': 1.3280, 'lng': 103.8773}, # Macpherson\n",
    "        14: {'lat': 1.3168, 'lng': 103.8930}, # Geylang\n",
    "        15: {'lat': 1.3040, 'lng': 103.9050}, # Katong\n",
    "        16: {'lat': 1.3240, 'lng': 103.9279}, # Bedok\n",
    "        17: {'lat': 1.3644, 'lng': 103.9915}, # Changi\n",
    "        18: {'lat': 1.3546, 'lng': 103.9450}, # Tampines\n",
    "        19: {'lat': 1.3573, 'lng': 103.8763}, # Serangoon Garden\n",
    "        20: {'lat': 1.3695, 'lng': 103.8483}, # Ang Mo Kio\n",
    "        21: {'lat': 1.3397, 'lng': 103.7747}, # Upper Bukit Timah\n",
    "        22: {'lat': 1.3329, 'lng': 103.7436}, # Jurong\n",
    "        23: {'lat': 1.3690, 'lng': 103.7644}, # Bukit Panjang\n",
    "        24: {'lat': 1.4206, 'lng': 103.7179}, # Lim Chu Kang\n",
    "        25: {'lat': 1.4382, 'lng': 103.7891}, # Woodlands\n",
    "        26: {'lat': 1.3998, 'lng': 103.8261}, # Upper Thomson\n",
    "        27: {'lat': 1.4504, 'lng': 103.8200}, # Yishun\n",
    "        28: {'lat': 1.4171, 'lng': 103.8659}  # Seletar\n",
    "    }\n",
    "'''\n",
    "def get_district(location, district_mapping):\n",
    "    \"\"\"\n",
    "    Returns the district number based on location name\n",
    "    \"\"\"\n",
    "    if pd.isna(location):\n",
    "        return None\n",
    "        \n",
    "    location = location.strip()\n",
    "    \n",
    "    # Direct lookup\n",
    "    for area, district in district_mapping.items():\n",
    "        if area.lower() in location.lower():\n",
    "            return district\n",
    "            \n",
    "    # Special cases\n",
    "    if any(x in location.lower() for x in ['amk', 'ang mo']):\n",
    "        return 20  # Ang Mo Kio\n",
    "    if 'thomson' in location.lower():\n",
    "        return 11  # Thomson area\n",
    "    \n",
    "    return None\n",
    "\n",
    "def process_locations(df):\n",
    "    \"\"\"\n",
    "    Process the locations DataFrame and add district numbers and coordinates\n",
    "    \"\"\"\n",
    "    # Create mappings\n",
    "    district_mapping = get_district_mapping()\n",
    "    district_coordinates = get_district_coordinates()\n",
    "    \n",
    "    # Add district column\n",
    "    df['District'] = df['Location'].apply(lambda x: get_district(x, district_mapping))\n",
    "    \n",
    "    # Add coordinate columns\n",
    "    #df['Latitude'] = df['District'].apply(lambda x: district_coordinates[x]['lat'] if pd.notnull(x) else None)\n",
    "    #df['Longitude'] = df['District'].apply(lambda x: district_coordinates[x]['lng'] if pd.notnull(x) else None)\n",
    "    \n",
    "    return df\n",
    "\n",
    "# Read and process the data\n",
    "df = location\n",
    "df = process_locations(df)\n"
   ]
  },
  {
   "cell_type": "code",
   "execution_count": null,
   "id": "200b7e5f",
   "metadata": {},
   "outputs": [],
   "source": [
    "df.reset_index(drop=True, inplace=True)"
   ]
  },
  {
   "cell_type": "markdown",
   "id": "f8305a22",
   "metadata": {},
   "source": [
    "To prepare the data for exact latitude and longitude"
   ]
  },
  {
   "cell_type": "code",
   "execution_count": null,
   "id": "19d46c6b",
   "metadata": {},
   "outputs": [],
   "source": [
    "df_to_process = rest['Location'] + ' Singapore'\n",
    "df_to_process = pd.DataFrame(df_to_process)\n",
    "df_to_process"
   ]
  },
  {
   "cell_type": "markdown",
   "id": "2c3e6f8b",
   "metadata": {},
   "source": [
    "Slice the data into trunks for smooth process"
   ]
  },
  {
   "cell_type": "code",
   "execution_count": null,
   "id": "69d10124",
   "metadata": {
    "scrolled": true
   },
   "outputs": [],
   "source": [
    "num_rows = df_to_process.shape[0]\n",
    "df_collection = []\n",
    "for i in range(0,num_rows,50):\n",
    "    df_collection.append(df_to_process[i:i+50])\n",
    "df_geo = []"
   ]
  },
  {
   "cell_type": "markdown",
   "id": "9c8e1aee",
   "metadata": {},
   "source": [
    "Get extact geo data"
   ]
  },
  {
   "cell_type": "code",
   "execution_count": null,
   "id": "5ac3e893",
   "metadata": {
    "scrolled": true
   },
   "outputs": [],
   "source": [
    "from geopy.geocoders import Nominatim\n",
    "from geopy.exc import GeocoderTimedOut\n",
    "\n",
    "# Initialize geolocator\n",
    "geolocator = Nominatim(user_agent=\"geoapi\", timeout=10)\n",
    "\n",
    "# Function to fetch geolocation\n",
    "def get_geocode(location, retries=2):\n",
    "    for attempt in range(retries):\n",
    "        try:\n",
    "            geo = geolocator.geocode(location)\n",
    "            if geo:\n",
    "                print(f\"location got with: {geo}\")\n",
    "                return geo.latitude, geo.longitude\n",
    "        except GeocoderTimedOut:\n",
    "            time.sleep(2)  # Wait before retrying\n",
    "    print(f\"{location} not got\")\n",
    "    return None, None\n",
    "\n",
    "# Apply the function to the location column\n",
    "for location in df_collection:\n",
    "    \n",
    "    location[['Latitude', 'Longitude']] = location['Location'].apply(lambda x: pd.Series(get_geocode(x)))\n",
    "    df_geo.append(location)"
   ]
  },
  {
   "cell_type": "code",
   "execution_count": null,
   "id": "6225c383",
   "metadata": {},
   "outputs": [],
   "source": [
    "df_geo"
   ]
  },
  {
   "cell_type": "markdown",
   "id": "38a0a829",
   "metadata": {},
   "source": [
    "Add district and geo info into the main df"
   ]
  },
  {
   "cell_type": "code",
   "execution_count": null,
   "id": "80f2c2d9",
   "metadata": {},
   "outputs": [],
   "source": [
    "rest[['District']] = df[['District']]"
   ]
  },
  {
   "cell_type": "code",
   "execution_count": null,
   "id": "a2a6bf0d",
   "metadata": {},
   "outputs": [],
   "source": [
    "rest[['Location', 'Latitude','Longitude']] = df_geo[['Location', 'Latitude','Longitude']]"
   ]
  },
  {
   "cell_type": "code",
   "execution_count": null,
   "id": "e11245a1",
   "metadata": {},
   "outputs": [],
   "source": [
    "rest"
   ]
  },
  {
   "cell_type": "code",
   "execution_count": null,
   "id": "a1f31d56",
   "metadata": {},
   "outputs": [],
   "source": [
    "rest.to_csv(\"rest_cleaned_geo.csv\")"
   ]
  },
  {
   "cell_type": "code",
   "execution_count": null,
   "id": "109d54d4",
   "metadata": {},
   "outputs": [],
   "source": []
  }
 ],
 "metadata": {
  "kernelspec": {
   "display_name": "Python 3 (ipykernel)",
   "language": "python",
   "name": "python3"
  },
  "language_info": {
   "codemirror_mode": {
    "name": "ipython",
    "version": 3
   },
   "file_extension": ".py",
   "mimetype": "text/x-python",
   "name": "python",
   "nbconvert_exporter": "python",
   "pygments_lexer": "ipython3",
   "version": "3.11.9"
  }
 },
 "nbformat": 4,
 "nbformat_minor": 5
}
